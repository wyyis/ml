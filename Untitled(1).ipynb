{
 "cells": [
  {
   "cell_type": "code",
   "execution_count": null,
   "id": "2209bce2",
   "metadata": {
    "pycharm": {
     "name": "#%%\n"
    }
   },
   "outputs": [],
   "source": [
    "#1、获取数据\n",
    "#2、合并表\n",
    "#3、找到user_id和aisle之间的关系\n",
    "#4、PCA降维"
   ]
  },
  {
   "cell_type": "code",
   "execution_count": 6,
   "id": "ce903333",
   "metadata": {
    "pycharm": {
     "name": "#%%\n"
    }
   },
   "outputs": [],
   "source": [
    "import pandas as pd"
   ]
  },
  {
   "cell_type": "code",
   "execution_count": 7,
   "id": "3f02bc93",
   "metadata": {
    "pycharm": {
     "name": "#%%\n"
    }
   },
   "outputs": [],
   "source": [
    "#1、获取数据\n",
    "order_products=pd.read_csv(\"order_products__prior.csv\")\n",
    "products = pd.read_csv(\"products.csv\")\n",
    "orders = pd.read_csv(\"orders.csv\")\n",
    "aisles = pd.read_csv(\"aisles.csv\")"
   ]
  },
  {
   "cell_type": "code",
   "execution_count": 13,
   "id": "d5ea3fae",
   "metadata": {
    "pycharm": {
     "name": "#%%\n"
    }
   },
   "outputs": [],
   "source": [
    "#2、合并表\n",
    "tb1 = pd.merge(aisles,products,on=[\"aisle_id\",\"aisle_id\"])"
   ]
  },
  {
   "cell_type": "code",
   "execution_count": 15,
   "id": "3ec670d6",
   "metadata": {
    "pycharm": {
     "name": "#%%\n"
    }
   },
   "outputs": [],
   "source": [
    "tb2 = pd.merge(tb1,order_products,on=[\"product_id\",\"product_id\"])"
   ]
  },
  {
   "cell_type": "code",
   "execution_count": 18,
   "id": "2eb07d33",
   "metadata": {
    "pycharm": {
     "name": "#%%\n"
    }
   },
   "outputs": [],
   "source": [
    "tb3 = pd.merge(tb2,orders,on=[\"order_id\",\"order_id\"])"
   ]
  },
  {
   "cell_type": "code",
   "execution_count": null,
   "id": "d9481fcf",
   "metadata": {
    "pycharm": {
     "name": "#%%\n"
    }
   },
   "outputs": [],
   "source": [
    "#3、找到user_id和aisle之间的关系"
   ]
  },
  {
   "cell_type": "code",
   "execution_count": 20,
   "id": "3ed62b41",
   "metadata": {
    "pycharm": {
     "name": "#%%\n"
    }
   },
   "outputs": [],
   "source": [
    "table = pd.crosstab(tb3[\"user_id\"],tb3[\"aisle\"])"
   ]
  },
  {
   "cell_type": "code",
   "execution_count": 23,
   "id": "efcbe2eb",
   "metadata": {
    "pycharm": {
     "name": "#%%\n"
    }
   },
   "outputs": [],
   "source": [
    "data = table[:10000]"
   ]
  },
  {
   "cell_type": "code",
   "execution_count": 25,
   "id": "6aa3ead2",
   "metadata": {
    "pycharm": {
     "name": "#%%\n"
    }
   },
   "outputs": [],
   "source": [
    "#4、PCA降维\n",
    "from sklearn.decomposition import PCA\n"
   ]
  },
  {
   "cell_type": "code",
   "execution_count": 26,
   "id": "23652351",
   "metadata": {
    "pycharm": {
     "name": "#%%\n"
    }
   },
   "outputs": [],
   "source": [
    "transfer = PCA(n_components=0.95)\n",
    "data_new = transfer.fit_transform(data)\n"
   ]
  },
  {
   "cell_type": "code",
   "execution_count": 28,
   "id": "b0f20de0",
   "metadata": {
    "pycharm": {
     "name": "#%%\n"
    }
   },
   "outputs": [
    {
     "data": {
      "text/plain": [
       "(10000, 42)"
      ]
     },
     "execution_count": 28,
     "metadata": {},
     "output_type": "execute_result"
    }
   ],
   "source": [
    "data_new.shape"
   ]
  },
  {
   "cell_type": "code",
   "execution_count": null,
   "id": "91bd1bb4",
   "metadata": {
    "pycharm": {
     "name": "#%%\n"
    }
   },
   "outputs": [],
   "source": []
  }
 ],
 "metadata": {
  "kernelspec": {
   "display_name": "Python 3 (ipykernel)",
   "language": "python",
   "name": "python3"
  },
  "language_info": {
   "codemirror_mode": {
    "name": "ipython",
    "version": 3
   },
   "file_extension": ".py",
   "mimetype": "text/x-python",
   "name": "python",
   "nbconvert_exporter": "python",
   "pygments_lexer": "ipython3",
   "version": "3.9.12"
  }
 },
 "nbformat": 4,
 "nbformat_minor": 5
}