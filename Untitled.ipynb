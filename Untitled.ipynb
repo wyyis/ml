{
 "cells": [
  {
   "cell_type": "code",
   "execution_count": 19,
   "id": "271ca75d",
   "metadata": {
    "pycharm": {
     "name": "#%%\n"
    }
   },
   "outputs": [],
   "source": [
    "import pandas as pd"
   ]
  },
  {
   "cell_type": "code",
   "execution_count": 20,
   "id": "459fda5d",
   "metadata": {
    "pycharm": {
     "name": "#%%\n"
    }
   },
   "outputs": [],
   "source": [
    "# 1、获取数据\n",
    "data = pd.read_csv(\"train.csv\")"
   ]
  },
  {
   "cell_type": "code",
   "execution_count": 21,
   "id": "c1a6fcd1",
   "metadata": {
    "pycharm": {
     "name": "#%%\n"
    }
   },
   "outputs": [
    {
     "data": {
      "text/plain": "            row_id       x       y  accuracy    time    place_id\n0                0  0.7941  9.0809        54  470702  8523065625\n1                1  5.9567  4.7968        13  186555  1757726713\n2                2  8.3078  7.0407        74  322648  1137537235\n3                3  7.3665  2.5165        65  704587  6567393236\n4                4  4.0961  1.1307        31  472130  7440663949\n...            ...     ...     ...       ...     ...         ...\n29118016  29118016  6.5133  1.1435        67  399740  8671361106\n29118017  29118017  5.9186  4.4134        67  125480  9077887898\n29118018  29118018  2.9993  6.3680        67  737758  2838334300\n29118019  29118019  4.0637  8.0061        70  764975  1007355847\n29118020  29118020  7.4523  2.0871        17  102842  7028698129\n\n[29118021 rows x 6 columns]",
      "text/html": "<div>\n<style scoped>\n    .dataframe tbody tr th:only-of-type {\n        vertical-align: middle;\n    }\n\n    .dataframe tbody tr th {\n        vertical-align: top;\n    }\n\n    .dataframe thead th {\n        text-align: right;\n    }\n</style>\n<table border=\"1\" class=\"dataframe\">\n  <thead>\n    <tr style=\"text-align: right;\">\n      <th></th>\n      <th>row_id</th>\n      <th>x</th>\n      <th>y</th>\n      <th>accuracy</th>\n      <th>time</th>\n      <th>place_id</th>\n    </tr>\n  </thead>\n  <tbody>\n    <tr>\n      <th>0</th>\n      <td>0</td>\n      <td>0.7941</td>\n      <td>9.0809</td>\n      <td>54</td>\n      <td>470702</td>\n      <td>8523065625</td>\n    </tr>\n    <tr>\n      <th>1</th>\n      <td>1</td>\n      <td>5.9567</td>\n      <td>4.7968</td>\n      <td>13</td>\n      <td>186555</td>\n      <td>1757726713</td>\n    </tr>\n    <tr>\n      <th>2</th>\n      <td>2</td>\n      <td>8.3078</td>\n      <td>7.0407</td>\n      <td>74</td>\n      <td>322648</td>\n      <td>1137537235</td>\n    </tr>\n    <tr>\n      <th>3</th>\n      <td>3</td>\n      <td>7.3665</td>\n      <td>2.5165</td>\n      <td>65</td>\n      <td>704587</td>\n      <td>6567393236</td>\n    </tr>\n    <tr>\n      <th>4</th>\n      <td>4</td>\n      <td>4.0961</td>\n      <td>1.1307</td>\n      <td>31</td>\n      <td>472130</td>\n      <td>7440663949</td>\n    </tr>\n    <tr>\n      <th>...</th>\n      <td>...</td>\n      <td>...</td>\n      <td>...</td>\n      <td>...</td>\n      <td>...</td>\n      <td>...</td>\n    </tr>\n    <tr>\n      <th>29118016</th>\n      <td>29118016</td>\n      <td>6.5133</td>\n      <td>1.1435</td>\n      <td>67</td>\n      <td>399740</td>\n      <td>8671361106</td>\n    </tr>\n    <tr>\n      <th>29118017</th>\n      <td>29118017</td>\n      <td>5.9186</td>\n      <td>4.4134</td>\n      <td>67</td>\n      <td>125480</td>\n      <td>9077887898</td>\n    </tr>\n    <tr>\n      <th>29118018</th>\n      <td>29118018</td>\n      <td>2.9993</td>\n      <td>6.3680</td>\n      <td>67</td>\n      <td>737758</td>\n      <td>2838334300</td>\n    </tr>\n    <tr>\n      <th>29118019</th>\n      <td>29118019</td>\n      <td>4.0637</td>\n      <td>8.0061</td>\n      <td>70</td>\n      <td>764975</td>\n      <td>1007355847</td>\n    </tr>\n    <tr>\n      <th>29118020</th>\n      <td>29118020</td>\n      <td>7.4523</td>\n      <td>2.0871</td>\n      <td>17</td>\n      <td>102842</td>\n      <td>7028698129</td>\n    </tr>\n  </tbody>\n</table>\n<p>29118021 rows × 6 columns</p>\n</div>"
     },
     "execution_count": 21,
     "metadata": {},
     "output_type": "execute_result"
    }
   ],
   "source": [
    "data"
   ]
  },
  {
   "cell_type": "code",
   "execution_count": 22,
   "id": "063b9503",
   "metadata": {
    "pycharm": {
     "name": "#%%\n"
    }
   },
   "outputs": [],
   "source": [
    "# 2、基本的数据处理\n",
    "# 1) 缩小数据范围\n",
    "data = data.query(\"x < 2.5 & x > 2 & y <1.5 & y > 1.0\")"
   ]
  },
  {
   "cell_type": "code",
   "execution_count": 23,
   "id": "aa777b4a",
   "metadata": {
    "pycharm": {
     "name": "#%%\n"
    }
   },
   "outputs": [
    {
     "data": {
      "text/plain": "      row_id       x       y  accuracy    time    place_id\n112      112  2.2360  1.3655        66  623174  7663031065\n180      180  2.2003  1.2541        65  610195  2358558474\n367      367  2.4108  1.3213        74  579667  6644108708\n874      874  2.0822  1.1973       320  143566  3229876087\n1022    1022  2.0160  1.1659        65  207993  3244363975",
      "text/html": "<div>\n<style scoped>\n    .dataframe tbody tr th:only-of-type {\n        vertical-align: middle;\n    }\n\n    .dataframe tbody tr th {\n        vertical-align: top;\n    }\n\n    .dataframe thead th {\n        text-align: right;\n    }\n</style>\n<table border=\"1\" class=\"dataframe\">\n  <thead>\n    <tr style=\"text-align: right;\">\n      <th></th>\n      <th>row_id</th>\n      <th>x</th>\n      <th>y</th>\n      <th>accuracy</th>\n      <th>time</th>\n      <th>place_id</th>\n    </tr>\n  </thead>\n  <tbody>\n    <tr>\n      <th>112</th>\n      <td>112</td>\n      <td>2.2360</td>\n      <td>1.3655</td>\n      <td>66</td>\n      <td>623174</td>\n      <td>7663031065</td>\n    </tr>\n    <tr>\n      <th>180</th>\n      <td>180</td>\n      <td>2.2003</td>\n      <td>1.2541</td>\n      <td>65</td>\n      <td>610195</td>\n      <td>2358558474</td>\n    </tr>\n    <tr>\n      <th>367</th>\n      <td>367</td>\n      <td>2.4108</td>\n      <td>1.3213</td>\n      <td>74</td>\n      <td>579667</td>\n      <td>6644108708</td>\n    </tr>\n    <tr>\n      <th>874</th>\n      <td>874</td>\n      <td>2.0822</td>\n      <td>1.1973</td>\n      <td>320</td>\n      <td>143566</td>\n      <td>3229876087</td>\n    </tr>\n    <tr>\n      <th>1022</th>\n      <td>1022</td>\n      <td>2.0160</td>\n      <td>1.1659</td>\n      <td>65</td>\n      <td>207993</td>\n      <td>3244363975</td>\n    </tr>\n  </tbody>\n</table>\n</div>"
     },
     "execution_count": 23,
     "metadata": {},
     "output_type": "execute_result"
    }
   ],
   "source": [
    "data.head()"
   ]
  },
  {
   "cell_type": "code",
   "execution_count": 24,
   "id": "23dba088",
   "metadata": {
    "scrolled": false,
    "pycharm": {
     "name": "#%%\n"
    }
   },
   "outputs": [],
   "source": [
    "# 2) 处理时间特征\n",
    "time_value = pd.to_datetime(data[\"time\"], unit = \"s\")"
   ]
  },
  {
   "cell_type": "code",
   "execution_count": 25,
   "id": "ef0e3b6e",
   "metadata": {
    "pycharm": {
     "name": "#%%\n"
    }
   },
   "outputs": [],
   "source": [
    "date = pd.DatetimeIndex(time_value)   "
   ]
  },
  {
   "cell_type": "code",
   "execution_count": 26,
   "id": "080c9e7a",
   "metadata": {
    "pycharm": {
     "name": "#%%\n"
    }
   },
   "outputs": [
    {
     "name": "stderr",
     "output_type": "stream",
     "text": [
      "/var/folders/w4/vh9mh6qs72x0ns5wj0s44tph0000gn/T/ipykernel_22012/164595413.py:1: SettingWithCopyWarning: \n",
      "A value is trying to be set on a copy of a slice from a DataFrame.\n",
      "Try using .loc[row_indexer,col_indexer] = value instead\n",
      "\n",
      "See the caveats in the documentation: https://pandas.pydata.org/pandas-docs/stable/user_guide/indexing.html#returning-a-view-versus-a-copy\n",
      "  data[\"day\"] = date.day\n"
     ]
    }
   ],
   "source": [
    "data[\"day\"] = date.day"
   ]
  },
  {
   "cell_type": "code",
   "execution_count": 27,
   "id": "6ad888fa",
   "metadata": {
    "pycharm": {
     "name": "#%%\n"
    }
   },
   "outputs": [
    {
     "name": "stderr",
     "output_type": "stream",
     "text": [
      "/var/folders/w4/vh9mh6qs72x0ns5wj0s44tph0000gn/T/ipykernel_22012/2588601112.py:1: SettingWithCopyWarning: \n",
      "A value is trying to be set on a copy of a slice from a DataFrame.\n",
      "Try using .loc[row_indexer,col_indexer] = value instead\n",
      "\n",
      "See the caveats in the documentation: https://pandas.pydata.org/pandas-docs/stable/user_guide/indexing.html#returning-a-view-versus-a-copy\n",
      "  data[\"weekday\"] = date.weekday\n"
     ]
    }
   ],
   "source": [
    "data[\"weekday\"] = date.weekday"
   ]
  },
  {
   "cell_type": "code",
   "execution_count": 28,
   "id": "31ee709d",
   "metadata": {
    "pycharm": {
     "name": "#%%\n"
    }
   },
   "outputs": [
    {
     "name": "stderr",
     "output_type": "stream",
     "text": [
      "/var/folders/w4/vh9mh6qs72x0ns5wj0s44tph0000gn/T/ipykernel_22012/592737860.py:1: SettingWithCopyWarning: \n",
      "A value is trying to be set on a copy of a slice from a DataFrame.\n",
      "Try using .loc[row_indexer,col_indexer] = value instead\n",
      "\n",
      "See the caveats in the documentation: https://pandas.pydata.org/pandas-docs/stable/user_guide/indexing.html#returning-a-view-versus-a-copy\n",
      "  data[\"hour\"] = date.hour\n"
     ]
    }
   ],
   "source": [
    "data[\"hour\"] = date.hour"
   ]
  },
  {
   "cell_type": "code",
   "execution_count": 29,
   "id": "37ee349a",
   "metadata": {
    "pycharm": {
     "name": "#%%\n"
    }
   },
   "outputs": [
    {
     "data": {
      "text/plain": "            row_id       x       y  accuracy    time    place_id  day  \\\n112            112  2.2360  1.3655        66  623174  7663031065    8   \n180            180  2.2003  1.2541        65  610195  2358558474    8   \n367            367  2.4108  1.3213        74  579667  6644108708    7   \n874            874  2.0822  1.1973       320  143566  3229876087    2   \n1022          1022  2.0160  1.1659        65  207993  3244363975    3   \n...            ...     ...     ...       ...     ...         ...  ...   \n29115112  29115112  2.1889  1.2914       168  721885  4606837364    9   \n29115204  29115204  2.1193  1.4692        58  563389  2074133146    7   \n29115338  29115338  2.0007  1.4852        25  765986  6691588909    9   \n29115464  29115464  2.4132  1.4237        61  151918  7396159924    2   \n29117493  29117493  2.2948  1.0504        81   79569  1168869217    1   \n\n          weekday  hour  \n112             3     5  \n180             3     1  \n367             2    17  \n874             4    15  \n1022            5     9  \n...           ...   ...  \n29115112        4     8  \n29115204        2    12  \n29115338        4    20  \n29115464        4    18  \n29117493        3    22  \n\n[83197 rows x 9 columns]",
      "text/html": "<div>\n<style scoped>\n    .dataframe tbody tr th:only-of-type {\n        vertical-align: middle;\n    }\n\n    .dataframe tbody tr th {\n        vertical-align: top;\n    }\n\n    .dataframe thead th {\n        text-align: right;\n    }\n</style>\n<table border=\"1\" class=\"dataframe\">\n  <thead>\n    <tr style=\"text-align: right;\">\n      <th></th>\n      <th>row_id</th>\n      <th>x</th>\n      <th>y</th>\n      <th>accuracy</th>\n      <th>time</th>\n      <th>place_id</th>\n      <th>day</th>\n      <th>weekday</th>\n      <th>hour</th>\n    </tr>\n  </thead>\n  <tbody>\n    <tr>\n      <th>112</th>\n      <td>112</td>\n      <td>2.2360</td>\n      <td>1.3655</td>\n      <td>66</td>\n      <td>623174</td>\n      <td>7663031065</td>\n      <td>8</td>\n      <td>3</td>\n      <td>5</td>\n    </tr>\n    <tr>\n      <th>180</th>\n      <td>180</td>\n      <td>2.2003</td>\n      <td>1.2541</td>\n      <td>65</td>\n      <td>610195</td>\n      <td>2358558474</td>\n      <td>8</td>\n      <td>3</td>\n      <td>1</td>\n    </tr>\n    <tr>\n      <th>367</th>\n      <td>367</td>\n      <td>2.4108</td>\n      <td>1.3213</td>\n      <td>74</td>\n      <td>579667</td>\n      <td>6644108708</td>\n      <td>7</td>\n      <td>2</td>\n      <td>17</td>\n    </tr>\n    <tr>\n      <th>874</th>\n      <td>874</td>\n      <td>2.0822</td>\n      <td>1.1973</td>\n      <td>320</td>\n      <td>143566</td>\n      <td>3229876087</td>\n      <td>2</td>\n      <td>4</td>\n      <td>15</td>\n    </tr>\n    <tr>\n      <th>1022</th>\n      <td>1022</td>\n      <td>2.0160</td>\n      <td>1.1659</td>\n      <td>65</td>\n      <td>207993</td>\n      <td>3244363975</td>\n      <td>3</td>\n      <td>5</td>\n      <td>9</td>\n    </tr>\n    <tr>\n      <th>...</th>\n      <td>...</td>\n      <td>...</td>\n      <td>...</td>\n      <td>...</td>\n      <td>...</td>\n      <td>...</td>\n      <td>...</td>\n      <td>...</td>\n      <td>...</td>\n    </tr>\n    <tr>\n      <th>29115112</th>\n      <td>29115112</td>\n      <td>2.1889</td>\n      <td>1.2914</td>\n      <td>168</td>\n      <td>721885</td>\n      <td>4606837364</td>\n      <td>9</td>\n      <td>4</td>\n      <td>8</td>\n    </tr>\n    <tr>\n      <th>29115204</th>\n      <td>29115204</td>\n      <td>2.1193</td>\n      <td>1.4692</td>\n      <td>58</td>\n      <td>563389</td>\n      <td>2074133146</td>\n      <td>7</td>\n      <td>2</td>\n      <td>12</td>\n    </tr>\n    <tr>\n      <th>29115338</th>\n      <td>29115338</td>\n      <td>2.0007</td>\n      <td>1.4852</td>\n      <td>25</td>\n      <td>765986</td>\n      <td>6691588909</td>\n      <td>9</td>\n      <td>4</td>\n      <td>20</td>\n    </tr>\n    <tr>\n      <th>29115464</th>\n      <td>29115464</td>\n      <td>2.4132</td>\n      <td>1.4237</td>\n      <td>61</td>\n      <td>151918</td>\n      <td>7396159924</td>\n      <td>2</td>\n      <td>4</td>\n      <td>18</td>\n    </tr>\n    <tr>\n      <th>29117493</th>\n      <td>29117493</td>\n      <td>2.2948</td>\n      <td>1.0504</td>\n      <td>81</td>\n      <td>79569</td>\n      <td>1168869217</td>\n      <td>1</td>\n      <td>3</td>\n      <td>22</td>\n    </tr>\n  </tbody>\n</table>\n<p>83197 rows × 9 columns</p>\n</div>"
     },
     "execution_count": 29,
     "metadata": {},
     "output_type": "execute_result"
    }
   ],
   "source": [
    "data"
   ]
  },
  {
   "cell_type": "code",
   "execution_count": 30,
   "id": "9cbd5bbf",
   "metadata": {
    "pycharm": {
     "name": "#%%\n"
    }
   },
   "outputs": [],
   "source": [
    "# 3) 过滤签到次数少的地点\n",
    "place_count = data.groupby(\"place_id\").count()[\"row_id\"]"
   ]
  },
  {
   "cell_type": "code",
   "execution_count": 31,
   "id": "a55cf76b",
   "metadata": {
    "pycharm": {
     "name": "#%%\n"
    }
   },
   "outputs": [
    {
     "data": {
      "text/plain": "place_id\n1014605271     28\n1015645743      4\n1017236154     31\n1024951487      5\n1028119817      4\n             ... \n9936666116    140\n9954155328      8\n9980625005     16\n9994257798     25\n9996671132     18\nName: row_id, Length: 950, dtype: int64"
     },
     "execution_count": 31,
     "metadata": {},
     "output_type": "execute_result"
    }
   ],
   "source": [
    "place_count[place_count > 3]"
   ]
  },
  {
   "cell_type": "code",
   "execution_count": 32,
   "id": "b9c311a3",
   "metadata": {
    "pycharm": {
     "name": "#%%\n"
    }
   },
   "outputs": [],
   "source": [
    "data_final = data[data[\"place_id\"].isin(place_count[place_count > 3].index.values)]"
   ]
  },
  {
   "cell_type": "code",
   "execution_count": 33,
   "id": "62990e92",
   "metadata": {
    "pycharm": {
     "name": "#%%\n"
    }
   },
   "outputs": [],
   "source": [
    "# 筛选特征值和目标值\n",
    "x = data_final[[\"x\", \"y\", \"accuracy\", \"day\", \"weekday\", \"hour\"]]\n",
    "y = data_final[\"place_id\"]"
   ]
  },
  {
   "cell_type": "code",
   "execution_count": 34,
   "id": "49c64f54",
   "metadata": {
    "pycharm": {
     "name": "#%%\n"
    }
   },
   "outputs": [],
   "source": [
    "# 数据集划分\n",
    "from sklearn.model_selection import train_test_split"
   ]
  },
  {
   "cell_type": "code",
   "execution_count": 35,
   "id": "b9ed5081",
   "metadata": {
    "pycharm": {
     "name": "#%%\n"
    }
   },
   "outputs": [],
   "source": [
    "x_train, x_test, y_train, y_test = train_test_split(x,y)"
   ]
  },
  {
   "cell_type": "code",
   "execution_count": 36,
   "id": "f7c902a3",
   "metadata": {
    "pycharm": {
     "name": "#%%\n"
    }
   },
   "outputs": [],
   "source": [
    "from sklearn.preprocessing import StandardScaler\n",
    "from sklearn.neighbors import KNeighborsClassifier\n",
    "from sklearn.model_selection import GridSearchCV"
   ]
  },
  {
   "cell_type": "code",
   "execution_count": 37,
   "id": "e94ca9d8",
   "metadata": {
    "pycharm": {
     "name": "#%%\n"
    }
   },
   "outputs": [
    {
     "name": "stderr",
     "output_type": "stream",
     "text": [
      "/opt/anaconda3/lib/python3.9/site-packages/sklearn/model_selection/_split.py:676: UserWarning: The least populated class in y has only 1 members, which is less than n_splits=3.\n",
      "  warnings.warn(\n"
     ]
    },
    {
     "name": "stdout",
     "output_type": "stream",
     "text": [
      "6546590     False\n",
      "21276964    False\n",
      "23018876     True\n",
      "4390870     False\n",
      "5949016     False\n",
      "            ...  \n",
      "1093875      True\n",
      "2024451      True\n",
      "26055801    False\n",
      "28485493     True\n",
      "15300300    False\n",
      "Name: place_id, Length: 20228, dtype: bool\n",
      "0.3676092544987147\n",
      "KNeighborsClassifier()\n",
      "{'n_neighbors': 5}\n",
      "0.33456381727794254\n",
      "{'mean_fit_time': array([0.03057003, 0.03266398, 0.02920198, 0.02576232]), 'std_fit_time': array([0.00501919, 0.01009923, 0.00293669, 0.00084063]), 'mean_score_time': array([0.67286785, 0.80601621, 0.90528019, 0.88514527]), 'std_score_time': array([0.02866552, 0.07968677, 0.02581013, 0.02380979]), 'param_n_neighbors': masked_array(data=[3, 5, 7, 9],\n",
      "             mask=[False, False, False, False],\n",
      "       fill_value='?',\n",
      "            dtype=object), 'params': [{'n_neighbors': 3}, {'n_neighbors': 5}, {'n_neighbors': 7}, {'n_neighbors': 9}], 'split0_test_score': array([0.31693692, 0.33300376, 0.33280601, 0.33142179]), 'split1_test_score': array([0.32506056, 0.33544273, 0.33539329, 0.33430563]), 'split2_test_score': array([0.32471449, 0.33524497, 0.33455283, 0.32980669]), 'mean_test_score': array([0.32223732, 0.33456382, 0.33425071, 0.33184471]), 'std_test_score': array([0.00375061, 0.00110608, 0.00107764, 0.00186087]), 'rank_test_score': array([4, 1, 2, 3], dtype=int32)}\n"
     ]
    }
   ],
   "source": [
    "# 3、特征工程：标准化\n",
    "transfer = StandardScaler()\n",
    "x_train = transfer.fit_transform(x_train)\n",
    "x_test = transfer.transform(x_test)\n",
    "# 4、KNN算法预估器\n",
    "# k值一般不适用偶数\n",
    "estimator = KNeighborsClassifier()\n",
    "\n",
    "# 参数准备\n",
    "param_dict = {\"n_neighbors\": [3, 5, 7, 9]}\n",
    "# 加入网格搜索和交叉验证\n",
    "estimator = GridSearchCV(estimator, param_grid=param_dict, cv=3)\n",
    "\n",
    "estimator.fit(x_train, y_train)\n",
    "# 5、模型评估\n",
    "# (1)、直接比对真实值和预测值\n",
    "y_predict = estimator.predict(x_test)\n",
    "print(y_test == y_predict)\n",
    "# (2)、计算准确率\n",
    "# 求的是测试集的准确率\n",
    "score = estimator.score(x_test, y_test)\n",
    "print(score)\n",
    "\n",
    "print(estimator.best_estimator_)\n",
    "print(estimator.best_params_)\n",
    "# 求的是交叉验证时验证集的最佳准确率\n",
    "print(estimator.best_score_)\n",
    "print(estimator.cv_results_)"
   ]
  },
  {
   "cell_type": "code",
   "execution_count": 37,
   "id": "349c4f9a",
   "metadata": {
    "pycharm": {
     "name": "#%%\n"
    }
   },
   "outputs": [],
   "source": []
  }
 ],
 "metadata": {
  "kernelspec": {
   "display_name": "Python 3 (ipykernel)",
   "language": "python",
   "name": "python3"
  },
  "language_info": {
   "codemirror_mode": {
    "name": "ipython",
    "version": 3
   },
   "file_extension": ".py",
   "mimetype": "text/x-python",
   "name": "python",
   "nbconvert_exporter": "python",
   "pygments_lexer": "ipython3",
   "version": "3.9.12"
  }
 },
 "nbformat": 4,
 "nbformat_minor": 5
}